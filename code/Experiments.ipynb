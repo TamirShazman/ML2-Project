{
 "cells": [
  {
   "cell_type": "code",
   "execution_count": 1,
   "id": "1f611d9c",
   "metadata": {},
   "outputs": [],
   "source": [
    "import numpy as np\n",
    "import torch.nn as nn\n",
    "import torch.nn.functional as F\n",
    "import torch.optim as optim\n",
    "import torch.utils.data as data_utils\n",
    "import matplotlib.pyplot as plt\n",
    "import torch\n",
    "import pickle\n",
    "import torchvision\n",
    "import time\n",
    "import os\n",
    "\n",
    "from models import VAE, ConvolutionalDRAW\n",
    "from train import Train_Geco, Train_Beta, reconstruction_error, log_likelihood\n",
    "from functions import sample_vae, marginal_KL, Compute_NLL\n",
    "import datasets"
   ]
  },
  {
   "cell_type": "code",
   "execution_count": 2,
   "id": "2b337d8f",
   "metadata": {},
   "outputs": [],
   "source": [
    "torch.cuda.empty_cache() "
   ]
  },
  {
   "cell_type": "code",
   "execution_count": 3,
   "id": "a4757739",
   "metadata": {},
   "outputs": [
    {
     "name": "stdout",
     "output_type": "stream",
     "text": [
      "Fri Mar  4 08:54:29 2022       \n",
      "+-----------------------------------------------------------------------------+\n",
      "| NVIDIA-SMI 511.23       Driver Version: 511.23       CUDA Version: 11.6     |\n",
      "|-------------------------------+----------------------+----------------------+\n",
      "| GPU  Name            TCC/WDDM | Bus-Id        Disp.A | Volatile Uncorr. ECC |\n",
      "| Fan  Temp  Perf  Pwr:Usage/Cap|         Memory-Usage | GPU-Util  Compute M. |\n",
      "|                               |                      |               MIG M. |\n",
      "|===============================+======================+======================|\n",
      "|   0  NVIDIA GeForce ... WDDM  | 00000000:01:00.0  On |                  N/A |\n",
      "| 27%   25C    P8    N/A /  75W |    644MiB /  4096MiB |      3%      Default |\n",
      "|                               |                      |                  N/A |\n",
      "+-------------------------------+----------------------+----------------------+\n",
      "                                                                               \n",
      "+-----------------------------------------------------------------------------+\n",
      "| Processes:                                                                  |\n",
      "|  GPU   GI   CI        PID   Type   Process name                  GPU Memory |\n",
      "|        ID   ID                                                   Usage      |\n",
      "|=============================================================================|\n",
      "|    0   N/A  N/A      1144    C+G                                   N/A      |\n",
      "|    0   N/A  N/A      3240    C+G   ...artMenuExperienceHost.exe    N/A      |\n",
      "|    0   N/A  N/A      4460    C+G   ...2txyewy\\TextInputHost.exe    N/A      |\n",
      "|    0   N/A  N/A      6508    C+G   C:\\Windows\\explorer.exe         N/A      |\n",
      "|    0   N/A  N/A      8056    C+G   ...lPanel\\SystemSettings.exe    N/A      |\n",
      "|    0   N/A  N/A      8384    C+G   ...5n1h2txyewy\\SearchApp.exe    N/A      |\n",
      "|    0   N/A  N/A      8476    C+G   ...5n1h2txyewy\\SearchApp.exe    N/A      |\n",
      "|    0   N/A  N/A      9628    C+G   ...cw5n1h2txyewy\\LockApp.exe    N/A      |\n",
      "|    0   N/A  N/A      9956    C+G   ...y\\ShellExperienceHost.exe    N/A      |\n",
      "|    0   N/A  N/A     10032    C+G   ...ekyb3d8bbwe\\YourPhone.exe    N/A      |\n",
      "|    0   N/A  N/A     11836    C+G   ...8wekyb3d8bbwe\\Cortana.exe    N/A      |\n",
      "|    0   N/A  N/A     13440    C+G   ...me\\Application\\chrome.exe    N/A      |\n",
      "+-----------------------------------------------------------------------------+\n"
     ]
    }
   ],
   "source": [
    "!nvidia-smi"
   ]
  },
  {
   "cell_type": "code",
   "execution_count": 4,
   "id": "19623f39",
   "metadata": {},
   "outputs": [
    {
     "name": "stdout",
     "output_type": "stream",
     "text": [
      "cuda\n"
     ]
    }
   ],
   "source": [
    "if torch.cuda.is_available():\n",
    "    device = 'cuda'\n",
    "else:\n",
    "    device = 'cpu'\n",
    "print(device)"
   ]
  },
  {
   "cell_type": "code",
   "execution_count": 5,
   "id": "22fdf1d4",
   "metadata": {},
   "outputs": [],
   "source": [
    "def save_config(model, lambd_hist, train_hist, test_hist, path, model_name):\n",
    "    if not os.path.exists(path + f\"_{TOL}\\\\\"):\n",
    "        os.mkdir(path + f\"_{TOL}\\\\\")\n",
    "    hists = [lambd_hist, train_hist, test_hist]\n",
    "    hists_name = [\"lambd_hist\", \"train_hist\", \"test_hist\"]\n",
    "    for i, hist in enumerate(hists):\n",
    "        if not hist:\n",
    "            continue\n",
    "        a_file = open(path + f\"_{TOL}\\\\\" + f\"{hists_name[i]}.pkl\", \"wb\")\n",
    "        pickle.dump(hist, a_file)\n",
    "        a_file.close()\n",
    "    torch.save(model.state_dict(), path + f\"_{TOL}\\\\\" + f\"{model_name}.pt\")"
   ]
  },
  {
   "cell_type": "code",
   "execution_count": 6,
   "id": "b4d6ee58",
   "metadata": {},
   "outputs": [],
   "source": [
    "TOL = 0.06\n",
    "EPOCHS = 200\n",
    "lbd_step = 200"
   ]
  },
  {
   "cell_type": "markdown",
   "id": "4f1639b7",
   "metadata": {},
   "source": [
    "# Fashion MNIST"
   ]
  },
  {
   "cell_type": "code",
   "execution_count": 7,
   "id": "3d6d1b8c",
   "metadata": {
    "scrolled": true
   },
   "outputs": [],
   "source": [
    "train_loader, test_loader, input_size, batch_size = datasets.get_dataset('FASHION_MNIST', batch_size=200)"
   ]
  },
  {
   "cell_type": "markdown",
   "id": "535c468d",
   "metadata": {},
   "source": [
    "## Geco with RE"
   ]
  },
  {
   "cell_type": "code",
   "execution_count": null,
   "id": "3bed09a4",
   "metadata": {},
   "outputs": [
    {
     "data": {
      "image/png": "[encoded data removed]",
      "text/plain": [
       "<Figure size 1152x288 with 4 Axes>"
      ]
     },
     "metadata": {
      "needs_background": "light"
     },
     "output_type": "display_data"
    },
    {
     "name": "stdout",
     "output_type": "stream",
     "text": [
      "Epoch 101 of 200 took 10.180s\n",
      "  training loss (in-iteration): \t6993.578470\n",
      "  validation loss (in-iteration): \t7324.220381\n"
     ]
    }
   ],
   "source": [
    "vae_model_geco_re = VAE(dims = [28*28, 512, 256], dim_latent = 200)\n",
    "optimizer = optim.Adam(vae_model_geco_re.parameters(), lr=1e-3)\n",
    "scheduler = None\n",
    "vae_train_geco_re = Train_Geco(model=vae_model_geco_re, optimizer=optimizer, scheduler=scheduler, train_loader=train_loader, \n",
    "                 test_loader=test_loader, init_lambda=torch.FloatTensor([0.5]), constraint_f=reconstruction_error, num_epochs=EPOCHS,\n",
    "                 lbd_step=lbd_step, alpha=0.99, verbose=True, device=device, tol=TOL, pretrain=0)\n",
    "\n",
    "lambd_hist, train_hist, test_hist = vae_train_geco_re.train()"
   ]
  },
  {
   "cell_type": "code",
   "execution_count": null,
   "id": "5ea4fba3",
   "metadata": {},
   "outputs": [],
   "source": [
    "save_config(vae_model_geco_re, lambd_hist, train_hist, test_hist, f\"models\\\\Draw_Geco_Fashion_RE\", \"vae_model_geco_re\")"
   ]
  },
  {
   "cell_type": "markdown",
   "id": "3763edaf",
   "metadata": {},
   "source": [
    "## Geco with NLL"
   ]
  },
  {
   "cell_type": "code",
   "execution_count": null,
   "id": "816fa691",
   "metadata": {},
   "outputs": [],
   "source": [
    "vae_model_geco_nll = VAE(dims = [28*28, 512, 256], dim_latent = 200, parametrized=True)\n",
    "optimizer = optim.Adam(vae_model_geco_nll.parameters(), lr=1e-3)\n",
    "scheduler = None\n",
    "vae_train_geco_nll = Train_Geco(model=vae_model_geco_nll, optimizer=optimizer, scheduler=scheduler, train_loader=train_loader, \n",
    "                 test_loader=test_loader, init_lambda=torch.FloatTensor([1]), constraint_f=log_likelihood, num_epochs=EPOCHS,\n",
    "                 lbd_step=lbd_step, alpha=0.99, verbose=True, device=device, tol=TOL, pretrain=0)\n",
    "\n",
    "lambd_hist, train_hist, test_hist = vae_train_geco_nll.train()"
   ]
  },
  {
   "cell_type": "code",
   "execution_count": null,
   "id": "604e44f9",
   "metadata": {},
   "outputs": [],
   "source": [
    "save_config(vae_model_geco_nll, lambd_hist, train_hist, test_hist, f\"models\\\\Draw_Geco_Fashion_NLL\", \"vae_model_geco_nll\")"
   ]
  },
  {
   "cell_type": "markdown",
   "id": "360af6e6",
   "metadata": {},
   "source": [
    "# Beta = 1 (ELBO)"
   ]
  },
  {
   "cell_type": "markdown",
   "id": "feb5644e",
   "metadata": {},
   "source": [
    "## RE"
   ]
  },
  {
   "cell_type": "code",
   "execution_count": null,
   "id": "38a3a444",
   "metadata": {},
   "outputs": [],
   "source": [
    "vae_model = VAE(dims = [28*28, 512, 256], dim_latent = 200)\n",
    "optimizer = optim.Adam(vae_model.parameters(), lr=1e-3)\n",
    "scheduler = None\n",
    "vae_train_geco_re = Train_Beta(model=vae_model, optimizer=optimizer, scheduler=scheduler, train_loader=train_loader, \n",
    "                 test_loader=test_loader, constraint_f=reconstruction_error, num_epochs=EPOCHS,\n",
    "                 verbose=True, device=device, tol=TOL)\n",
    "\n",
    "lambd_hist, train_hist = vae_train_geco_re.train()"
   ]
  },
  {
   "cell_type": "code",
   "execution_count": null,
   "id": "4a134535",
   "metadata": {},
   "outputs": [],
   "source": [
    "save_config(vae_model, None, train_hist, test_hist, f\"models\\\\Draw_Beta_1_Fashion_RE\", \"vae_model_beta_re\")"
   ]
  },
  {
   "cell_type": "markdown",
   "id": "7da4c984",
   "metadata": {},
   "source": [
    "## NLL"
   ]
  },
  {
   "cell_type": "code",
   "execution_count": null,
   "id": "9e58e2a9",
   "metadata": {},
   "outputs": [],
   "source": [
    "vae_model = VAE(dims = [28*28, 512, 256], dim_latent = 200, parametrized=True)\n",
    "optimizer = optim.Adam(vae_model.parameters(), lr=1e-3)\n",
    "scheduler = None\n",
    "vae_train_geco_re = Train_Beta(model=vae_model, optimizer=optimizer, scheduler=scheduler, train_loader=train_loader, \n",
    "                 test_loader=test_loader, constraint_f=log_likelihood, num_epochs=EPOCHS,\n",
    "                 verbose=True, device=device, tol=TOL)\n",
    "\n",
    "lambd_hist, train_hist = vae_train_geco_re.train()"
   ]
  },
  {
   "cell_type": "code",
   "execution_count": null,
   "id": "12852c49",
   "metadata": {},
   "outputs": [],
   "source": [
    "save_config(vae_model, None, train_hist, test_hist, f\"models\\\\Draw_Beta_1_Fashion_NLL\", \"vae_model_beta_nll\")"
   ]
  },
  {
   "cell_type": "markdown",
   "id": "70def0f4",
   "metadata": {},
   "source": [
    "# Beta = 0.5"
   ]
  },
  {
   "cell_type": "markdown",
   "id": "3140dccd",
   "metadata": {},
   "source": [
    "## RE"
   ]
  },
  {
   "cell_type": "code",
   "execution_count": null,
   "id": "4f5e2cae",
   "metadata": {},
   "outputs": [],
   "source": [
    "vae_model = VAE(dims = [28*28, 512, 256], dim_latent = 200)\n",
    "optimizer = optim.Adam(vae_model.parameters(), lr=1e-3)\n",
    "scheduler = None\n",
    "vae_train_geco_re = Train_Beta(model=vae_model, optimizer=optimizer, scheduler=scheduler, train_loader=train_loader, \n",
    "                 test_loader=test_loader, constraint_f=reconstruction_error, num_epochs=EPOCHS, beta=torch.FloatTensor([0.5]),\n",
    "                 verbose=True, device=device, tol=TOL)\n",
    "\n",
    "lambd_hist, train_hist = vae_train_geco_re.train()"
   ]
  },
  {
   "cell_type": "code",
   "execution_count": null,
   "id": "3570f153",
   "metadata": {},
   "outputs": [],
   "source": [
    "save_config(vae_model, None, train_hist, test_hist, f\"models\\\\Draw_Beta_half_Fashion_RE\", \"vae_model_beta_re\")"
   ]
  },
  {
   "cell_type": "markdown",
   "id": "a66fd913",
   "metadata": {},
   "source": [
    "## NLL"
   ]
  },
  {
   "cell_type": "code",
   "execution_count": null,
   "id": "7c3d5600",
   "metadata": {},
   "outputs": [],
   "source": [
    "vae_model = VAE(dims = [28*28, 512, 256], dim_latent = 200, parametrized=True)\n",
    "optimizer = optim.Adam(vae_model.parameters(), lr=1e-3)\n",
    "scheduler = None\n",
    "vae_train_geco_re = Train_Beta(model=vae_model, optimizer=optimizer, scheduler=scheduler, train_loader=train_loader, \n",
    "                 test_loader=test_loader, constraint_f=log_likelihood, num_epochs=EPOCHS, beta=torch.FloatTensor([0.5]),\n",
    "                 verbose=True, device=device, tol=TOL)\n",
    "\n",
    "lambd_hist, train_hist = vae_train_geco_re.train()"
   ]
  },
  {
   "cell_type": "code",
   "execution_count": null,
   "id": "f184e02c",
   "metadata": {},
   "outputs": [],
   "source": [
    "save_config(vae_model, None, train_hist, test_hist, f\"models\\\\Draw_Beta_half_Fashion_NLL\", \"vae_model_beta_nll\")"
   ]
  },
  {
   "cell_type": "markdown",
   "id": "55fa0324",
   "metadata": {},
   "source": [
    "# Beta = 2"
   ]
  },
  {
   "cell_type": "markdown",
   "id": "7bfcedf9",
   "metadata": {},
   "source": [
    "## RE"
   ]
  },
  {
   "cell_type": "code",
   "execution_count": null,
   "id": "57e3e0a4",
   "metadata": {},
   "outputs": [],
   "source": [
    "vae_model = VAE(dims = [28*28, 512, 256], dim_latent = 200)\n",
    "optimizer = optim.Adam(vae_model.parameters(), lr=1e-3)\n",
    "scheduler = None\n",
    "vae_train_geco_re = Train_Beta(model=vae_model, optimizer=optimizer, scheduler=scheduler, train_loader=train_loader, \n",
    "                 test_loader=test_loader, constraint_f=reconstruction_error, num_epochs=EPOCHS, beta=torch.FloatTensor([2]),\n",
    "                 verbose=True, device=device, tol=TOL)\n",
    "\n",
    "lambd_hist, train_hist = vae_train_geco_re.train()"
   ]
  },
  {
   "cell_type": "code",
   "execution_count": null,
   "id": "86507acb",
   "metadata": {},
   "outputs": [],
   "source": [
    "save_config(vae_model, None, train_hist, test_hist, f\"models\\\\Draw_Beta_two_Fashion_RE\", \"vae_model_beta_re\")"
   ]
  },
  {
   "cell_type": "markdown",
   "id": "9ab87ba9",
   "metadata": {},
   "source": [
    "## NLL"
   ]
  },
  {
   "cell_type": "code",
   "execution_count": null,
   "id": "44757474",
   "metadata": {},
   "outputs": [],
   "source": [
    "vae_model = VAE(dims = [28*28, 512, 256], dim_latent = 200, parametrized=True)\n",
    "optimizer = optim.Adam(vae_model.parameters(), lr=1e-3)\n",
    "scheduler = None\n",
    "vae_train_geco_re = Train_Beta(model=vae_model, optimizer=optimizer, scheduler=scheduler, train_loader=train_loader, \n",
    "                 test_loader=test_loader, constraint_f=log_likelihood, num_epochs=EPOCHS, beta=torch.FloatTensor([2]),\n",
    "                 verbose=True, device=device, tol=TOL)\n",
    "\n",
    "lambd_hist, train_hist = vae_train_geco_re.train()"
   ]
  },
  {
   "cell_type": "code",
   "execution_count": null,
   "id": "a7f1b67c",
   "metadata": {},
   "outputs": [],
   "source": [
    "save_config(vae_model, None, train_hist, test_hist, f\"models\\\\Draw_Beta_two_Fashion_NLL\", \"vae_model_beta_nll\")"
   ]
  },
  {
   "cell_type": "markdown",
   "id": "46326be0",
   "metadata": {},
   "source": [
    "# LFW"
   ]
  },
  {
   "cell_type": "markdown",
   "id": "decc3c8a",
   "metadata": {},
   "source": [
    "train_loader, test_loader, input_size, batch_size = datasets.get_dataset('LFW', batch_size=10)"
   ]
  },
  {
   "cell_type": "markdown",
   "id": "010c4b34",
   "metadata": {},
   "source": [
    "## Geco"
   ]
  },
  {
   "cell_type": "markdown",
   "id": "7913716f",
   "metadata": {},
   "source": [
    "cd_model = ConvolutionalDRAW(x_dim = 3, x_shape = input_size, h_dim = 256, T = 1)\n",
    "optimizer = optim.Adam(cd_model.parameters(), lr=1e-3)\n",
    "scheduler = None\n",
    "\n",
    "vae_train_geco = Train_Geco(model=cd_model, optimizer=optimizer, scheduler=scheduler, train_loader=train_loader, \n",
    "                 test_loader=test_loader, init_lambda=torch.FloatTensor([1]), num_epochs=50,\n",
    "                 lbd_step=50, alpha=0.99, verbose=True, device=device, tol=0.6, pretrain=0)\n",
    "\n",
    "lambd_hist, train_hist, test_hist = vae_train_geco.train()"
   ]
  },
  {
   "cell_type": "markdown",
   "id": "e01a9928",
   "metadata": {
    "scrolled": true
   },
   "source": [
    "vae_model_geco =  VAE(dims = [28*28, 512, 256], dim_latent = 200)\n",
    "\n",
    "optimizer = optim.Adam(vae_model_geco.parameters(), lr=1e-3)\n",
    "# scheduler = optim.lr_scheduler.ReduceLROnPlateau(optimizer, 'min', patience=10, verbose=True)\n",
    "scheduler = None\n",
    "train_geco(vae_model_geco, optimizer, scheduler, \n",
    "           train_loader = train_loader, \n",
    "           valid_loader = test_loader, lbd_step = 1, \n",
    "           num_epochs=200,lambd_init = torch.FloatTensor([0.5]),\n",
    "           tol = 4, visual=)"
   ]
  },
  {
   "cell_type": "markdown",
   "id": "9f4314fd",
   "metadata": {},
   "source": [
    "vae_model_geco =  VAE(dims = [28*28, 512, 256], dim_latent = 200)"
   ]
  },
  {
   "cell_type": "markdown",
   "id": "f65c935c",
   "metadata": {},
   "source": [
    "def plot_gallery(images, h, w, n_row=3, n_col=6):\n",
    "    plt.figure(figsize=(3 * n_col, 1.9 * n_row))\n",
    "    plt.subplots_adjust(bottom=0, left=.01, right=.99, top=.90, hspace=.35)\n",
    "    for i in range(n_row * n_col):\n",
    "        plt.subplot(n_row, n_col, i + 1)\n",
    "        plt.imshow(images[i].reshape((h, w)), cmap=plt.cm.gray, vmin=-1, vmax=1, interpolation='nearest')\n",
    "        plt.xticks(())\n",
    "        plt.yticks(())"
   ]
  },
  {
   "cell_type": "markdown",
   "id": "05285da7",
   "metadata": {},
   "source": [
    "cd_model = cd_model.cpu()\n",
    "cd_model.eval()"
   ]
  },
  {
   "cell_type": "markdown",
   "id": "95398a81",
   "metadata": {},
   "source": [
    "img = next(iter(test_loader))[0]\n",
    "plt.imshow(img.permute(1, 2, 0))"
   ]
  },
  {
   "cell_type": "markdown",
   "id": "ca603f0e",
   "metadata": {},
   "source": [
    "img_new = cd_model(torch.unsqueeze(img, 0))\n",
    "img_new = img_new[0][0].permute(1, 2, 0).detach().numpy()\n",
    "#print(img_new.shape)\n",
    "plt.imshow(img_new)"
   ]
  }
 ],
 "metadata": {
  "kernelspec": {
   "display_name": "Python 3 (ipykernel)",
   "language": "python",
   "name": "python3"
  },
  "language_info": {
   "codemirror_mode": {
    "name": "ipython",
    "version": 3
   },
   "file_extension": ".py",
   "mimetype": "text/x-python",
   "name": "python",
   "nbconvert_exporter": "python",
   "pygments_lexer": "ipython3",
   "version": "3.8.10"
  }
 },
 "nbformat": 4,
 "nbformat_minor": 5
}
